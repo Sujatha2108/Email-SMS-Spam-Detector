{
  "cells": [
    {
      "cell_type": "markdown",
      "metadata": {
        "id": "view-in-github",
        "colab_type": "text"
      },
      "source": [
        "<a href=\"https://colab.research.google.com/github/Sujatha2108/Email-SMS-Spam-Detector/blob/main/Email_Spam.ipynb\" target=\"_parent\"><img src=\"https://colab.research.google.com/assets/colab-badge.svg\" alt=\"Open In Colab\"/></a>"
      ]
    },
    {
      "cell_type": "code",
      "execution_count": null,
      "metadata": {
        "id": "MFk2wSzRQ0yy"
      },
      "outputs": [],
      "source": [
        "!pip install datasets transformers torch scikit_learn flask pyngrok huggingface_hub"
      ]
    },
    {
      "cell_type": "code",
      "source": [
        "from google.colab import userdata\n",
        "\n",
        "# This securely gets your token\n",
        "token = userdata.get('HF_TOKEN')\n",
        "\n",
        "# ... and the rest of your login code\n",
        "from huggingface_hub import login\n",
        "login(token)"
      ],
      "metadata": {
        "id": "wLF1jC9CqPup"
      },
      "execution_count": null,
      "outputs": []
    },
    {
      "cell_type": "code",
      "execution_count": null,
      "metadata": {
        "id": "Zom6vfQiSuit"
      },
      "outputs": [],
      "source": [
        "from huggingface_hub import whoami\n",
        "print(whoami())"
      ]
    },
    {
      "cell_type": "code",
      "execution_count": null,
      "metadata": {
        "id": "TEwMEL8fTE4F"
      },
      "outputs": [],
      "source": [
        "from datasets import load_dataset\n",
        "import pandas as pd\n",
        "dataset = load_dataset(\"sms_spam\")"
      ]
    },
    {
      "cell_type": "code",
      "execution_count": null,
      "metadata": {
        "id": "cGHaJqWcUE5h"
      },
      "outputs": [],
      "source": [
        " print(\"Dataset Keys : \",dataset.keys())\n",
        " print(\"Number of examples : \",len(dataset['train']))\n",
        " print(\"\\n Sample data points:\")\n",
        " for i in range(3):\n",
        "  print(f\"Message {i+1} :\")\n",
        "  print(\"Text: \",dataset[\"train\"][i][\"sms\"])\n",
        "  print(\"Label:\",\"spam\"if dataset['train'][i]['label']==1 else  \"Ham\")\n",
        "  print(\"-\"*40)"
      ]
    },
    {
      "cell_type": "code",
      "execution_count": null,
      "metadata": {
        "id": "_Avtlf2BXjmf"
      },
      "outputs": [],
      "source": [
        "df = pd.DataFrame(dataset['train'])\n",
        "df['label_name'] = df['label'].apply(lambda x: 'spam' if x==1 else 'ham')\n",
        "print(\"\\n DataFrame head: \")\n",
        "df.head()"
      ]
    },
    {
      "cell_type": "code",
      "execution_count": null,
      "metadata": {
        "id": "QjY3IPoCX_An"
      },
      "outputs": [],
      "source": [
        "df.tail()\n"
      ]
    },
    {
      "cell_type": "code",
      "execution_count": null,
      "metadata": {
        "id": "wIl8qKq7YCR6"
      },
      "outputs": [],
      "source": [
        "df.describe()\n"
      ]
    },
    {
      "cell_type": "code",
      "execution_count": null,
      "metadata": {
        "id": "aw8InvAYYGgM"
      },
      "outputs": [],
      "source": [
        "df.info()"
      ]
    },
    {
      "cell_type": "code",
      "execution_count": null,
      "metadata": {
        "id": "iAhGkn5pYj50"
      },
      "outputs": [],
      "source": [
        "df.sample()"
      ]
    },
    {
      "cell_type": "code",
      "execution_count": null,
      "metadata": {
        "id": "I3fDIp2JZp2e"
      },
      "outputs": [],
      "source": [
        "print(\"\\nClass distribution:\")\n",
        "print(df['label_name'].value_counts())"
      ]
    },
    {
      "cell_type": "code",
      "execution_count": null,
      "metadata": {
        "id": "EoG2Oe9XZhD2"
      },
      "outputs": [],
      "source": [
        "import matplotlib.pyplot as plt\n",
        "print(\"\\nClass distribution:\")\n",
        "print(df['label_name'].value_counts().plot(kind='bar'))\n",
        "plt.show()"
      ]
    },
    {
      "cell_type": "code",
      "execution_count": null,
      "metadata": {
        "id": "ychqfVhJcSDJ"
      },
      "outputs": [],
      "source": [
        "print(df['label_name'].value_counts().plot(kind='box'))\n",
        "plt.show()"
      ]
    },
    {
      "cell_type": "code",
      "execution_count": null,
      "metadata": {
        "id": "iPjtGA5AcW2I"
      },
      "outputs": [],
      "source": [
        "print(df['label_name'].value_counts().plot(kind='pie'))"
      ]
    },
    {
      "cell_type": "code",
      "execution_count": null,
      "metadata": {
        "id": "iZkCW6zodNV4"
      },
      "outputs": [],
      "source": [
        "train_test=dataset['train'].train_test_split(test_size=0.2,stratify_by_column='label')\n",
        "train_dataset=train_test['train']\n",
        "test_dataset=train_test['test']"
      ]
    },
    {
      "cell_type": "code",
      "execution_count": null,
      "metadata": {
        "id": "PN42VTMid5EP"
      },
      "outputs": [],
      "source": [
        "print(\"Train/Test split sizes:\")\n",
        "print(\"Train:\", len(train_dataset))\n",
        "print(\"Test:\", len(test_dataset))"
      ]
    },
    {
      "cell_type": "code",
      "execution_count": null,
      "metadata": {
        "id": "Fp3QhU5yqgUH"
      },
      "outputs": [],
      "source": [
        "from transformers import AutoTokenizer\n",
        "\n",
        "model_checkpoint = \"distilbert-base-uncased\"\n",
        "tokenizer = AutoTokenizer.from_pretrained(model_checkpoint)\n",
        "\n",
        "def tokenize_batch(batch):\n",
        "    return tokenizer(batch[\"sms\"], padding=\"max_length\", truncation=True, max_length=128)\n",
        "\n",
        "train_dataset = train_dataset.map(tokenize_batch, batched=True)\n",
        "test_dataset = test_dataset.map(tokenize_batch, batched=True)\n"
      ]
    },
    {
      "cell_type": "code",
      "execution_count": null,
      "metadata": {
        "id": "sH4zPIvIyeV3"
      },
      "outputs": [],
      "source": [
        "\n",
        "train_dataset = train_dataset.rename_column(\"label\", \"labels\")\n",
        "test_dataset = test_dataset.rename_column(\"label\", \"labels\")\n",
        "\n",
        "train_dataset.set_format(type=\"torch\", columns=[\"input_ids\", \"attention_mask\", \"labels\"])\n",
        "test_dataset.set_format(type=\"torch\", columns=[\"input_ids\", \"attention_mask\", \"labels\"])"
      ]
    },
    {
      "cell_type": "code",
      "execution_count": null,
      "metadata": {
        "id": "E5D-KlAnvr7L"
      },
      "outputs": [],
      "source": [
        "!pip install evaluate"
      ]
    },
    {
      "cell_type": "code",
      "execution_count": null,
      "metadata": {
        "id": "AiXPlVqnrxM2"
      },
      "outputs": [],
      "source": [
        "from transformers import AutoModelForSequenceClassification, TrainingArguments, Trainer\n",
        "import evaluate\n",
        "model = AutoModelForSequenceClassification.from_pretrained(\"distilbert-base-uncased\", num_labels=2)\n",
        "metric = evaluate.load(\"accuracy\")\n",
        "def compute_metrics(eval_pred):\n",
        "  logits, labels = eval_pred\n",
        "  predictions = logits.argmax(axis=-1)\n",
        "  return metric.compute(predictions=predictions, references=labels)"
      ]
    },
    {
      "cell_type": "code",
      "execution_count": null,
      "metadata": {
        "id": "BgtA2Khcv4pn",
        "collapsed": true
      },
      "outputs": [],
      "source": [
        "\n",
        "\n",
        "# ✅ Training arguments - OLD compatible (no evaluation_strategy)\n",
        "training_args = TrainingArguments(\n",
        "    output_dir=\"./results\",\n",
        "    save_steps=500,                    # save checkpoint every 500 steps\n",
        "    logging_dir=\"./logs\",\n",
        "    logging_steps=100,                 # log every 100 steps\n",
        "    learning_rate=2e-5,\n",
        "    per_device_train_batch_size=16,\n",
        "    per_device_eval_batch_size=16,\n",
        "    num_train_epochs=2,\n",
        "    weight_decay=0.01,\n",
        "    report_to=[]                       # disables wandb auto logging\n",
        ")\n",
        "\n",
        "# Trainer (shows tqdm automatically)\n",
        "trainer = Trainer(\n",
        "    model=model,\n",
        "    args=training_args,\n",
        "    train_dataset=train_dataset,\n",
        "    eval_dataset=test_dataset,\n",
        "    tokenizer=tokenizer,\n",
        "    compute_metrics=compute_metrics,\n",
        ")\n",
        "\n",
        "# 🚀 Train with tqdm\n",
        "trainer.train()\n",
        "\n",
        "# ✅ Evaluate manually at the end\n",
        "metrics = trainer.evaluate()\n",
        "print(\"Final evaluation metrics:\", metrics)"
      ]
    },
    {
      "cell_type": "code",
      "source": [
        "model.push_to_hub(\"email-spam-detector-distilbert\")\n",
        "tokenizer.push_to_hub(\"email-spam-detector-distilbert\")"
      ],
      "metadata": {
        "id": "uROvst2rY7s7"
      },
      "execution_count": null,
      "outputs": []
    },
    {
      "cell_type": "code",
      "source": [
        "%%writefile app.py\n",
        "from flask import Flask, render_template, request\n",
        "from transformers import pipeline\n",
        "\n",
        "app = Flask(__name__)\n",
        "\n",
        "# Load pipeline from your fine-tuned model on Hugging Face\n",
        "spam_clf = pipeline(\"text-classification\", model=\"SujathaAlugoju/email-spam-detector-distilbert\")\n",
        "\n",
        "@app.route(\"/\", methods=[\"GET\", \"POST\"])\n",
        "def home():\n",
        "    result = \"\"\n",
        "    message = \"\"\n",
        "    if request.method == \"POST\":\n",
        "        message = request.form.get(\"message\", \"\").strip()\n",
        "        if message:\n",
        "            pred = spam_clf(message)[0]\n",
        "            label = \"🚨 Spam ❌\" if pred['label'] == \"LABEL_1\" else \"✅ Not Spam\"\n",
        "            result = f\"{label} (Confidence: {pred['score']:.2f})\"\n",
        "    return render_template(\"index.html\", result=result, message=message)\n",
        "\n",
        "if __name__ == \"__main__\":\n",
        "    app.run(host=\"0.0.0.0\", port=8000)\n"
      ],
      "metadata": {
        "id": "JIhtA-lAY_iG"
      },
      "execution_count": null,
      "outputs": []
    },
    {
      "cell_type": "code",
      "source": [
        "!mkdir -p templates"
      ],
      "metadata": {
        "id": "XMoHsazGZC4E"
      },
      "execution_count": null,
      "outputs": []
    },
    {
      "cell_type": "code",
      "source": [
        "!mkdir -p static"
      ],
      "metadata": {
        "id": "7Ck1lxHYZEnF"
      },
      "execution_count": null,
      "outputs": []
    },
    {
      "cell_type": "code",
      "source": [
        "%%writefile templates/index.html\n",
        "<!DOCTYPE html>\n",
        "<html>\n",
        "<head>\n",
        "    <title>📧 Spam Detector</title>\n",
        "    <link rel=\"stylesheet\" href=\"{{ url_for('static', filename='style.css') }}\">\n",
        "</head>\n",
        "<body>\n",
        "    <div class=\"container\">\n",
        "        <h1>📧 Email / SMS Spam Detector</h1>\n",
        "        <form method=\"post\">\n",
        "            <textarea name=\"message\" rows=\"5\" placeholder=\"Enter your message here...\">{{ message }}</textarea>\n",
        "            <button type=\"submit\">Check 🚀</button>\n",
        "        </form>\n",
        "\n",
        "        {% if result %}\n",
        "        <div class=\"result\">\n",
        "            <h2>{{ result }}</h2>\n",
        "        </div>\n",
        "        {% endif %}\n",
        "    </div>\n",
        "</body>\n",
        "</html>\n"
      ],
      "metadata": {
        "id": "PZA_NmpTZG0l"
      },
      "execution_count": null,
      "outputs": []
    },
    {
      "cell_type": "code",
      "source": [
        "%%writefile static/style.css\n",
        "body {\n",
        "    font-family: 'Segoe UI', sans-serif;\n",
        "    background: linear-gradient(135deg, #141E30, #243B55);\n",
        "    color: #fff;\n",
        "    display: flex;\n",
        "    justify-content: center;\n",
        "    align-items: center;\n",
        "    height: 100vh;\n",
        "    margin: 0;\n",
        "}\n",
        "\n",
        ".container {\n",
        "    text-align: center;\n",
        "    width: 50%;\n",
        "    background: rgba(255, 255, 255, 0.1);\n",
        "    padding: 30px;\n",
        "    border-radius: 16px;\n",
        "    box-shadow: 0 4px 20px rgba(0,0,0,0.5);\n",
        "}\n",
        "\n",
        "h1 {\n",
        "    margin-bottom: 20px;\n",
        "    color: #FFD700;\n",
        "}\n",
        "\n",
        "textarea {\n",
        "    width: 90%;\n",
        "    padding: 12px;\n",
        "    border-radius: 10px;\n",
        "    border: none;\n",
        "    outline: none;\n",
        "    font-size: 16px;\n",
        "    margin-bottom: 15px;\n",
        "}\n",
        "\n",
        "button {\n",
        "    background: #FFD700;\n",
        "    color: #000;\n",
        "    font-weight: bold;\n",
        "    padding: 12px 20px;\n",
        "    border-radius: 8px;\n",
        "    border: none;\n",
        "    cursor: pointer;\n",
        "    transition: background 0.3s ease-in-out;\n",
        "}\n",
        "\n",
        "button:hover {\n",
        "    background: #FFA500;\n",
        "}\n",
        "\n",
        ".result {\n",
        "    margin-top: 20px;\n",
        "    font-size: 20px;\n",
        "    font-weight: bold;\n",
        "    padding: 15px;\n",
        "    border-radius: 12px;\n",
        "    background: rgba(0, 0, 0, 0.4);\n",
        "}\n"
      ],
      "metadata": {
        "id": "D_6zB0DQZOYp"
      },
      "execution_count": null,
      "outputs": []
    },
    {
      "cell_type": "code",
      "source": [
        "# ✅ Kill any running Flask/ngrok processes\n",
        "!pkill -f flask || echo \"No flask running\"\n",
        "!pkill -f ngrok || echo \"No ngrok running\""
      ],
      "metadata": {
        "id": "-qdlHNzaZQ5b"
      },
      "execution_count": null,
      "outputs": []
    },
    {
      "cell_type": "code",
      "source": [
        "# ✅ Check if port 8000 is occupied\n",
        "!lsof -i :8000 || echo \"Port 8000 is free\""
      ],
      "metadata": {
        "id": "4wQRtKg3ZSsg"
      },
      "execution_count": null,
      "outputs": []
    },
    {
      "cell_type": "code",
      "source": [
        "# (Optional) If any PID shows up in the above output, kill it:\n",
        "!kill -9 23863"
      ],
      "metadata": {
        "id": "Zyt21qpWZUlx"
      },
      "execution_count": null,
      "outputs": []
    },
    {
      "cell_type": "code",
      "source": [],
      "metadata": {
        "id": "EAgT_yZPZXCt"
      },
      "execution_count": null,
      "outputs": []
    },
    {
      "cell_type": "code",
      "source": [
        "# ✅ Run Flask in the background and log output\n",
        "!nohup python app.py > flask.log 2>&1 &"
      ],
      "metadata": {
        "id": "jMyRmSNsZWsm"
      },
      "execution_count": null,
      "outputs": []
    },
    {
      "cell_type": "code",
      "source": [
        "!tail -n 50 flask.log\n"
      ],
      "metadata": {
        "id": "lR4mkzzaZYeb"
      },
      "execution_count": null,
      "outputs": []
    },
    {
      "cell_type": "code",
      "source": [
        "# ✅ Start ngrok tunnel\n",
        "from pyngrok import ngrok, conf\n",
        "conf.get_default().auth_token = \"NGROK_TOKEN\"\n",
        "\n",
        "public_url = ngrok.connect(8000)\n",
        "print(\"🌍 Public URL:\", public_url)\n",
        "\n",
        "# ✅ Check Flask logs (useful if error happens)\n",
        "!sleep 3 && tail -n 20 flask.log"
      ],
      "metadata": {
        "colab": {
          "base_uri": "https://localhost:8080/"
        },
        "id": "2ea48rJDsi-1",
        "outputId": "694d1042-40c0-4bf1-f1b1-e01a11836845"
      },
      "execution_count": 67,
      "outputs": [
        {
          "output_type": "stream",
          "name": "stdout",
          "text": [
            "🌍 Public URL: NgrokTunnel: \"https://rex-hottish-noncontrollablely.ngrok-free.dev\" -> \"http://localhost:8000\"\n",
            "\n",
            "--- Last 20 lines of Flask Log ---\n"
          ]
        }
      ]
    }
  ],
  "metadata": {
    "colab": {
      "provenance": [],
      "gpuType": "T4",
      "authorship_tag": "ABX9TyMpct7MW1SWm98f95nJSWUs",
      "include_colab_link": true
    },
    "kernelspec": {
      "display_name": "Python 3",
      "name": "python3"
    },
    "language_info": {
      "name": "python"
    },
    "accelerator": "GPU"
  },
  "nbformat": 4,
  "nbformat_minor": 0
}